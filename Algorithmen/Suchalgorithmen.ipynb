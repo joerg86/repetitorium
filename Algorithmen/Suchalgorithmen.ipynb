{
 "cells": [
  {
   "cell_type": "markdown",
   "metadata": {},
   "source": [
    "# Suchalgorithmen\n",
    "\n",
    "## Sequenzielle Suche\n",
    "\n",
    "Bei der sequenziellen Suche wird die Liste sequenziell durchlaufen, bis der gesuchte Wert gefunden wurde oder das Ende der Liste erreicht ist. \n",
    "\n",
    "Die im folgenden vorgestellte Python-Implementation liefert den Index des gefundenen Wertes zurück. Wurde der Wert nicht gefunden, so liefert sie -1 zurück."
   ]
  },
  {
   "cell_type": "code",
   "execution_count": 32,
   "metadata": {},
   "outputs": [],
   "source": [
    "def sequential_search(liste, k):\n",
    "    for i in range(len(liste)):\n",
    "        if liste[i] == k:\n",
    "            return i\n",
    "    \n",
    "    return -1"
   ]
  },
  {
   "cell_type": "code",
   "execution_count": 34,
   "metadata": {
    "scrolled": true
   },
   "outputs": [
    {
     "data": {
      "text/plain": [
       "3"
      ]
     },
     "execution_count": 34,
     "metadata": {},
     "output_type": "execute_result"
    }
   ],
   "source": [
    "testliste = [4, 11, 2, 19, 3, 4]\n",
    "\n",
    "sequential_search(testliste, 19)"
   ]
  },
  {
   "cell_type": "code",
   "execution_count": 35,
   "metadata": {
    "scrolled": true
   },
   "outputs": [
    {
     "data": {
      "text/plain": [
       "-1"
      ]
     },
     "execution_count": 35,
     "metadata": {},
     "output_type": "execute_result"
    }
   ],
   "source": [
    "sequential_search(testliste, 27)"
   ]
  },
  {
   "cell_type": "markdown",
   "metadata": {},
   "source": [
    "## Binäre Suche\n",
    "Bei der binären Suche wird nach dem Divide-And-Conquer-Prinzip ähnlich wie bei Quick Sort die Liste geteilt und mit Rekursion gearbeitet.\n",
    "\n",
    "Dabei wird das Element in der Mitte untersucht, ob es mit dem gesuchten Wert übereinstimmt. Wenn ja, wird der Index zurückgeliefert. Wenn nicht, wird die Liste geteilt in die Elemente vor und die Elemente nach dem mittleren Element. Auf diese Teillisten wird dann wieder eine binäre Suche ausgeführt.\n",
    "\n",
    "Ist die Länge der betrachteten Liste 0, so wird -1 (nicht gefunden) zurückgegeben."
   ]
  },
  {
   "cell_type": "code",
   "execution_count": 113,
   "metadata": {},
   "outputs": [],
   "source": [
    "def binary_search(liste, k, start=0, end=None):\n",
    "    if end is None:\n",
    "        end = len(liste) - 1\n",
    "        \n",
    "    if end - start < 0:\n",
    "        return -1\n",
    "    \n",
    "    mitte = (start + end) // 2\n",
    "    if liste[mitte] == k:\n",
    "        return mitte\n",
    "    \n",
    "    if liste[mitte] > k:\n",
    "        result = binary_search(liste, k, start=start, end=mitte-1)\n",
    "    elif liste[mitte] < k:\n",
    "        result = binary_search(liste, k, start=mitte+1, end=end)\n",
    "    \n",
    "    return result"
   ]
  },
  {
   "cell_type": "code",
   "execution_count": 114,
   "metadata": {},
   "outputs": [
    {
     "data": {
      "text/plain": [
       "5"
      ]
     },
     "execution_count": 114,
     "metadata": {},
     "output_type": "execute_result"
    }
   ],
   "source": [
    "testliste = [1, 3, 17, 22, 29, 53]\n",
    "\n",
    "binary_search(testliste, 53)"
   ]
  },
  {
   "cell_type": "code",
   "execution_count": 116,
   "metadata": {},
   "outputs": [
    {
     "data": {
      "text/plain": [
       "-1"
      ]
     },
     "execution_count": 116,
     "metadata": {},
     "output_type": "execute_result"
    }
   ],
   "source": [
    "testliste = [1, 2, 3, 5, 11, 99]\n",
    "binary_search(testliste, 17)"
   ]
  },
  {
   "cell_type": "markdown",
   "metadata": {},
   "source": [
    "## Fibonacci-Suche"
   ]
  },
  {
   "cell_type": "code",
   "execution_count": 72,
   "metadata": {},
   "outputs": [],
   "source": [
    "def fib_search(liste, k):\n",
    "    raise NotImplemented(\"Muss noch erledigt werden.\")"
   ]
  },
  {
   "cell_type": "markdown",
   "metadata": {},
   "source": [
    "# Naives String-Matching"
   ]
  },
  {
   "cell_type": "code",
   "execution_count": 68,
   "metadata": {},
   "outputs": [],
   "source": [
    "def naive_match(string, match):\n",
    "    for i in range(len(string) - len(match) + 1):\n",
    "        gefunden = True\n",
    "        for j in range(len(match)):\n",
    "            if string[i+j] != match[j]:\n",
    "                gefunden = False\n",
    "                break\n",
    "        \n",
    "        if gefunden:\n",
    "            return i\n",
    "        \n",
    "    return -1\n",
    "    "
   ]
  },
  {
   "cell_type": "code",
   "execution_count": 69,
   "metadata": {
    "scrolled": true
   },
   "outputs": [
    {
     "data": {
      "text/plain": [
       "6"
      ]
     },
     "execution_count": 69,
     "metadata": {},
     "output_type": "execute_result"
    }
   ],
   "source": [
    "teststring = \"Hallo IUBH. Ihr seid die besten - und die teuersten!\"\n",
    "match = \"IUBH\"\n",
    "\n",
    "naive_match(teststring, match)"
   ]
  },
  {
   "cell_type": "markdown",
   "metadata": {},
   "source": [
    "Perfekt! Die Zeichenkette \"IUBH\" wurde an Position 6 (immer ausgehend von 0) gefunden.\n",
    "Da wir zu faul sind, nachzuzählen, lassen wir Python den Teststring ab Position 6 für uns ausgeben:"
   ]
  },
  {
   "cell_type": "code",
   "execution_count": 73,
   "metadata": {},
   "outputs": [
    {
     "data": {
      "text/plain": [
       "'IUBH. Ihr seid die besten - und die teuersten!'"
      ]
     },
     "execution_count": 73,
     "metadata": {},
     "output_type": "execute_result"
    }
   ],
   "source": [
    "teststring[6:]"
   ]
  },
  {
   "cell_type": "markdown",
   "metadata": {},
   "source": [
    "Das Wort \"Studentin\" kommt in unserem Teststring nicht vor - wir müssten also -1 als Index zurückgeliefert bekommen:"
   ]
  },
  {
   "cell_type": "code",
   "execution_count": 70,
   "metadata": {},
   "outputs": [
    {
     "data": {
      "text/plain": [
       "-1"
      ]
     },
     "execution_count": 70,
     "metadata": {},
     "output_type": "execute_result"
    }
   ],
   "source": [
    "match = \"Studentin\"\n",
    "\n",
    "naive_match(teststring, match)"
   ]
  },
  {
   "cell_type": "markdown",
   "metadata": {},
   "source": [
    "## Knuth-Morris-Pratt-Verfahren"
   ]
  },
  {
   "cell_type": "code",
   "execution_count": 88,
   "metadata": {},
   "outputs": [],
   "source": [
    "def prefix(match):\n",
    "    \"\"\"Erstellt die Präfixtabelle für das Muster match\"\"\"\n",
    "    \n",
    "    len_prefix = -1\n",
    "    prefix = [len_prefix] \n",
    "    \n",
    "    for pos in range(len(match)):\n",
    "        while len_prefix >= 0 and match[pos] != match[len_prefix]:\n",
    "            len_prefix = prefix[len_prefix]\n",
    "        \n",
    "        len_prefix += 1\n",
    "        prefix.append(len_prefix)\n",
    "    \n",
    "    return prefix\n"
   ]
  },
  {
   "cell_type": "code",
   "execution_count": 109,
   "metadata": {
    "scrolled": true
   },
   "outputs": [
    {
     "data": {
      "text/plain": [
       "[[' ', ' ', ' ', ' ', ' ', ' ', ' ', ' ', ' ', ' ', ' ', ' ', ' ', ' ', 0],\n",
       " [' ', ' ', ' ', ' ', ' ', ' ', ' ', ' ', ' ', ' ', ' ', ' ', ' ', ' ', 0],\n",
       " ['a', ' ', 'a', ' ', ' ', ' ', ' ', ' ', ' ', ' ', ' ', ' ', ' ', ' ', 1],\n",
       " ['a', 'b', 'a', 'b', ' ', ' ', ' ', ' ', ' ', ' ', ' ', ' ', ' ', ' ', 2],\n",
       " [' ', ' ', ' ', ' ', ' ', ' ', ' ', ' ', ' ', ' ', ' ', ' ', ' ', ' ', 0],\n",
       " [' ', ' ', ' ', ' ', ' ', ' ', ' ', ' ', ' ', ' ', ' ', ' ', ' ', ' ', 0],\n",
       " [' ', ' ', ' ', ' ', ' ', ' ', ' ', ' ', ' ', ' ', ' ', ' ', ' ', ' ', 0],\n",
       " [' ', ' ', ' ', ' ', ' ', ' ', ' ', ' ', ' ', ' ', ' ', ' ', ' ', ' ', 0],\n",
       " [' ', ' ', ' ', ' ', ' ', ' ', ' ', ' ', ' ', ' ', ' ', ' ', ' ', ' ', 0],\n",
       " ['a', ' ', ' ', ' ', ' ', ' ', ' ', ' ', ' ', 'a', ' ', ' ', ' ', ' ', 1],\n",
       " ['a', 'b', ' ', ' ', ' ', ' ', ' ', ' ', ' ', 'a', 'b', ' ', ' ', ' ', 2],\n",
       " ['a', 'b', 'a', ' ', ' ', ' ', ' ', ' ', ' ', 'a', 'b', 'a', ' ', ' ', 3],\n",
       " ['a', 'b', 'a', 'b', ' ', ' ', ' ', ' ', ' ', 'a', 'b', 'a', 'b', ' ', 4],\n",
       " ['a', 'b', 'a', ' ', ' ', ' ', ' ', ' ', ' ', ' ', ' ', 'a', 'b', 'a', 3]]"
      ]
     },
     "execution_count": 109,
     "metadata": {},
     "output_type": "execute_result"
    }
   ],
   "source": [
    "match = \"ababccdcdababa\"\n",
    "t = prefix(match)\n",
    "\n",
    "result = []\n",
    "for index, i in enumerate(t[1:]):\n",
    "    result.append(\n",
    "        list(match[:i]) + [\" \"]*(index - 2*i + 1) + list(match[:i]) + [\" \"] * (len(match)-(index+1)) + [i]\n",
    "    )\n",
    "    \n",
    "result"
   ]
  }
 ],
 "metadata": {
  "kernelspec": {
   "display_name": "Python 3",
   "language": "python",
   "name": "python3"
  },
  "language_info": {
   "codemirror_mode": {
    "name": "ipython",
    "version": 3
   },
   "file_extension": ".py",
   "mimetype": "text/x-python",
   "name": "python",
   "nbconvert_exporter": "python",
   "pygments_lexer": "ipython3",
   "version": "3.7.4"
  }
 },
 "nbformat": 4,
 "nbformat_minor": 2
}
