{
 "cells": [
  {
   "cell_type": "markdown",
   "metadata": {},
   "source": [
    "# Sortieralgorithmen\n",
    "\n",
    "Beachte, dass die im weiteren Verlauf dargestellten Sortieralgorithmen entsprechend den Beispielen im Kursskript mit Ausnahme von Quick Sort die Liste \"in place\" sortieren. Das bedeutet, dass die an die entsprechende Prozedur übergebene Liste im Original verändert und zurückgegeben wird.\n",
    "\n",
    "## Selection Sort\n",
    "\n",
    "Selection Sort folgt dem Prinzip des \"Sortieren durch Auswählen\".\n",
    "\n",
    "Dabei teilen wir die zu sortierende Liste in einen sortierten Teil, der am Anfang noch leer ist und einen noch zu sortierenden Teil, der zu Beginn alle Listenelemente enthält. Beim aufsteigenden Sortieren wird nun in jedem Schritt das kleinste Element der unsortierten Liste ausgewählt und an die sortierte Liste angehängt."
   ]
  },
  {
   "cell_type": "code",
   "execution_count": 1,
   "metadata": {},
   "outputs": [],
   "source": [
    "def selection_sort(liste):\n",
    "    for i in range(len(liste)):\n",
    "        # Minimum mit dem aktuellen Index initialisieren\n",
    "        min = i\n",
    "        \n",
    "        # Index des Minimums finden\n",
    "        for j in range(i, len(liste)):\n",
    "            if liste[j] < liste[min]:\n",
    "                min = j\n",
    "        \n",
    "        # Tauschen des Elementes an der aktuellen Position i mit dem Minimum\n",
    "        t = liste[i]\n",
    "        liste[i] = liste[min]\n",
    "        liste[min] = t\n",
    "        \n",
    "    return liste"
   ]
  },
  {
   "cell_type": "code",
   "execution_count": 2,
   "metadata": {
    "scrolled": true
   },
   "outputs": [
    {
     "data": {
      "text/plain": [
       "[0, 1, 2, 6, 6, 12, 17, 19]"
      ]
     },
     "execution_count": 2,
     "metadata": {},
     "output_type": "execute_result"
    }
   ],
   "source": [
    "testliste = [17, 6, 19, 6, 2, 1, 12, 0]\n",
    "\n",
    "selection_sort(testliste)"
   ]
  },
  {
   "cell_type": "markdown",
   "metadata": {},
   "source": [
    "## Insertion Sort\n",
    "Insert Sort folgt dem Prinzip des \"Sortieren durch Einfügen\".\n",
    "\n",
    "Dabei wird die Liste wie im Abschnitt \"Selection Sort\" beschrieben wieder geteilt in einen sortierten und einen unsortierten Teil und zu Anfang entsprechend initialisiert.\n",
    "Im Unterschied zum Selection Sort wird aber nun nicht das Minimum der unsortierten Teilliste gesucht, sondern es wird das jeweils erste Element der Liste gewählt und an passender Stelle in den sortierten Teil eingefügt. Bevor dies geschehen kann, müssen alle Elemente, die größer sind als das einzusortierende Element, eine Position nach rechts verschoben werden, so dass eine \"Lücke\" für das einzusortierende Element entsteht."
   ]
  },
  {
   "cell_type": "code",
   "execution_count": 3,
   "metadata": {},
   "outputs": [],
   "source": [
    "def insertion_sort(liste):\n",
    "    for i in range(1, len(liste)):\n",
    "        insert_pos = 0\n",
    "        \n",
    "        # Einfügeposition finden\n",
    "        for j in range(i):\n",
    "            if liste[j] > liste[i]:\n",
    "                insert_pos = j\n",
    "                break\n",
    "        \n",
    "        # Einzufügenden Wert merken\n",
    "        wert = liste[i]\n",
    "        \n",
    "        # Nach rechts schieben\n",
    "        for j in range(i, insert_pos, -1):\n",
    "            liste[j] = liste[j-1]\n",
    "            \n",
    "        # Element einfügen\n",
    "        liste[insert_pos] = wert\n",
    "        \n",
    "    return liste            "
   ]
  },
  {
   "cell_type": "code",
   "execution_count": 4,
   "metadata": {},
   "outputs": [
    {
     "data": {
      "text/plain": [
       "[0, 1, 7, 8, 8, 11, 13, 24]"
      ]
     },
     "execution_count": 4,
     "metadata": {},
     "output_type": "execute_result"
    }
   ],
   "source": [
    "testliste = [24, 1, 7, 13, 8, 11, 0, 8]\n",
    "\n",
    "insertion_sort(testliste)"
   ]
  },
  {
   "cell_type": "markdown",
   "metadata": {},
   "source": [
    "## Bubble Sort\n",
    "\n",
    "Beim Bubble-Sort-Algorithmus wird die zu sortierende Liste solange immer wieder durchlaufen und dabei Nachbarelemente ggf. getauscht, bis kene Vertauschungen mehr möglich sind.\n",
    "\n",
    "Bläst man mit einem Strohhalm Luft in ein mit Wasser gefülltes Glas, so steigen Luftblasen (engl. *Bubbles*) an die Oberfläche. Ähnliches passiert bei diesem Sortieralgorithmus: Große Schlüsselwerte wandern in jedem Durchlauf weiter nach rechts, bis sie ihre endgültige Position erreicht haben.\n"
   ]
  },
  {
   "cell_type": "code",
   "execution_count": 7,
   "metadata": {},
   "outputs": [],
   "source": [
    "def bubble_sort(liste):\n",
    "    for i in range(len(liste) - 1):\n",
    "        getauscht = False\n",
    "        \n",
    "        for j in range(len(liste) - 1):\n",
    "            if liste[j] > liste[j + 1]:\n",
    "                t = liste[j]\n",
    "                liste[j] = liste[j + 1]\n",
    "                liste[j+1] = t\n",
    "                getauscht = True\n",
    "        \n",
    "        # Es wurde nichts mehr getauscht => Abbruch\n",
    "        if not getauscht:\n",
    "            break\n",
    "            \n",
    "    return liste\n",
    "            "
   ]
  },
  {
   "cell_type": "code",
   "execution_count": 6,
   "metadata": {},
   "outputs": [
    {
     "data": {
      "text/plain": [
       "[1, 3, 4, 5, 5, 12, 32, 88]"
      ]
     },
     "execution_count": 6,
     "metadata": {},
     "output_type": "execute_result"
    }
   ],
   "source": [
    "testliste = [88, 1, 5, 4, 32, 5, 12, 3]\n",
    "\n",
    "bubble_sort(testliste)"
   ]
  },
  {
   "cell_type": "markdown",
   "metadata": {},
   "source": [
    "## Quick Sort\n",
    "Quick Sort ist einer der schnellsten Sortieralgorithmen verfolgt ein rekursives Prinzip und arbeitet nach dem Divide-And-Conquer-Prinzip.\n",
    "\n",
    "Dabei wird das mittlere Element der unsortierten Liste ausgewählt und die Liste in zwei Teile geteilt: Der erste Teil enthält alle Elemente, die kleiner oder gleich dem mittleren Element sind, der zweite Teil enthält alle übrigen Elemente. Das mittlere Element selbst ist jedoch in keiner der beiden Teillisten enthalten.\n",
    "\n",
    "Auf die so entstandenen Teile wird nun wieder der Quick-Sort-Algorithmus angewendet. Die so sortierten Teile und das mittlere Element werden wieder zu einer Liste zusammengefügt und zurückgegeben.\n",
    "\n",
    "Erhält die Quick-Sort-Funktion eine Liste der Länge 1, so liefert er sie einfach unverändert zurück - hier ist also das Ende der Rekursion erreicht und das Verfahren terminiert."
   ]
  },
  {
   "cell_type": "code",
   "execution_count": 30,
   "metadata": {},
   "outputs": [],
   "source": [
    "def quick_sort(liste):\n",
    "    if len(liste) <= 1:\n",
    "        return liste    \n",
    "    else:\n",
    "        mitte = len(liste) // 2\n",
    "    \n",
    "        links = []\n",
    "        rechts = []\n",
    "        \n",
    "        for i in range(len(liste)):\n",
    "            if i != mitte:\n",
    "                if liste[i] <= liste[mitte]:\n",
    "                    links.append(liste[i])\n",
    "                else:\n",
    "                    rechts.append(liste[i])\n",
    "                           \n",
    "        return quick_sort(links) + [liste[mitte]] + quick_sort(rechts)\n",
    "    \n",
    "    return "
   ]
  },
  {
   "cell_type": "code",
   "execution_count": 31,
   "metadata": {
    "scrolled": true
   },
   "outputs": [
    {
     "data": {
      "text/plain": [
       "[1, 3, 6, 8, 12, 12, 77]"
      ]
     },
     "execution_count": 31,
     "metadata": {},
     "output_type": "execute_result"
    }
   ],
   "source": [
    "testliste = [12, 1, 77, 12, 3, 8, 6]\n",
    "\n",
    "quick_sort(testliste)"
   ]
  },
  {
   "cell_type": "markdown",
   "metadata": {},
   "source": [
    "# Suchalgorithmen\n",
    "\n",
    "## Sequenzielle Suche\n",
    "\n",
    "Bei der sequenziellen Suche wird die Liste sequenziell durchlaufen, bis der gesuchte Wert gefunden wurde oder das Ende der Liste erreicht ist. \n",
    "\n",
    "Die im folgenden vorgestellte Python-Implementation liefert den Index des gefundenen Wertes zurück. Wurde der Wert nicht gefunden, so liefert sie -1 zurück."
   ]
  },
  {
   "cell_type": "code",
   "execution_count": 32,
   "metadata": {},
   "outputs": [],
   "source": [
    "def sequential_search(liste, k):\n",
    "    for i in range(len(liste)):\n",
    "        if liste[i] == k:\n",
    "            return i\n",
    "    \n",
    "    return -1"
   ]
  },
  {
   "cell_type": "code",
   "execution_count": 34,
   "metadata": {},
   "outputs": [
    {
     "data": {
      "text/plain": [
       "3"
      ]
     },
     "execution_count": 34,
     "metadata": {},
     "output_type": "execute_result"
    }
   ],
   "source": [
    "testliste = [4, 11, 2, 19, 3, 4]\n",
    "\n",
    "sequential_search(testliste, 19)"
   ]
  },
  {
   "cell_type": "code",
   "execution_count": 35,
   "metadata": {},
   "outputs": [
    {
     "data": {
      "text/plain": [
       "-1"
      ]
     },
     "execution_count": 35,
     "metadata": {},
     "output_type": "execute_result"
    }
   ],
   "source": [
    "sequential_search(testliste, 27)"
   ]
  },
  {
   "cell_type": "markdown",
   "metadata": {},
   "source": [
    "## Binäre Suche\n"
   ]
  },
  {
   "cell_type": "code",
   "execution_count": 57,
   "metadata": {},
   "outputs": [],
   "source": [
    "def binary_search(liste, k, start=0, end=None):\n",
    "    if end is None:\n",
    "        end = len(liste) - 1\n",
    "        \n",
    "    if end - start < 0:\n",
    "        return -1\n",
    "    \n",
    "    mitte = (start + end) // 2\n",
    "    if liste[mitte] == k:\n",
    "        return mitte\n",
    "    \n",
    "    links = binary_search(liste, k, start=start, end=mitte-1)\n",
    "    rechts = binary_search(liste, k, start=mitte+1, end=end)\n",
    "    print(\"L\", start, mitte-1)\n",
    "    print(\"R\", mitte+1, end)\n",
    "    \n",
    "    return max(links, rechts)"
   ]
  },
  {
   "cell_type": "code",
   "execution_count": 56,
   "metadata": {},
   "outputs": [
    {
     "name": "stdout",
     "output_type": "stream",
     "text": [
      "L 0 -1\n",
      "R 1 1\n",
      "L 3 3\n",
      "R 5 5\n",
      "L 0 1\n",
      "R 3 5\n"
     ]
    },
    {
     "data": {
      "text/plain": [
       "-1"
      ]
     },
     "execution_count": 56,
     "metadata": {},
     "output_type": "execute_result"
    }
   ],
   "source": [
    "testliste = [1, 3, 17, 22, 9, 53]\n",
    "\n",
    "binary_search(testliste, 53)"
   ]
  }
 ],
 "metadata": {
  "kernelspec": {
   "display_name": "Python 3",
   "language": "python",
   "name": "python3"
  },
  "language_info": {
   "codemirror_mode": {
    "name": "ipython",
    "version": 3
   },
   "file_extension": ".py",
   "mimetype": "text/x-python",
   "name": "python",
   "nbconvert_exporter": "python",
   "pygments_lexer": "ipython3",
   "version": "3.7.4"
  }
 },
 "nbformat": 4,
 "nbformat_minor": 2
}
